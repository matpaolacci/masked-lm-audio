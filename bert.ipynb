{
  "nbformat": 4,
  "nbformat_minor": 0,
  "metadata": {
    "colab": {
      "provenance": [],
      "gpuType": "T4"
    },
    "kernelspec": {
      "name": "python3",
      "display_name": "Python 3"
    },
    "language_info": {
      "name": "python"
    },
    "accelerator": "GPU"
  },
  "cells": [
    {
      "cell_type": "markdown",
      "source": [
        "# Environment"
      ],
      "metadata": {
        "id": "gHX4oPiv7Fkg"
      }
    },
    {
      "cell_type": "code",
      "execution_count": 1,
      "metadata": {
        "id": "k72flb6C69bN"
      },
      "outputs": [],
      "source": [
        "import os\n",
        "\n",
        "# Set the paths\n",
        "DATASET_HOME_DIR = '/content/drive/MyDrive/DLProj/Dataset'\n",
        "CHECKPOINTS_DIR = '/content/drive/MyDrive/DLProj/vqvae_openai/checkpoints'\n",
        "WAV_DATASET_DIR = os.path.join(DATASET_HOME_DIR, \"WavVersion/train_small_files\")  # the Slackh2100 dataset with .wav stems\n",
        "REPO_DIR = '/content/masked-lm-audio'\n",
        "JUKEBOX_DIR = f'{REPO_DIR}/jukebox'\n",
        "\n",
        "# Clone the repo\n",
        "!git clone https://github.com/matpaolacci/masked-lm-audio.git --quiet"
      ]
    },
    {
      "cell_type": "markdown",
      "source": [
        "# Training"
      ],
      "metadata": {
        "id": "7RksAFAa7Hkj"
      }
    },
    {
      "cell_type": "code",
      "source": [
        "!mkdir train_data checkpoints\n",
        "os.chdir(REPO_DIR)\n",
        "\n",
        "#!mkdir checkpoints train_data\n",
        "!unzip -j $DATASET_HOME_DIR/encoded_level_1.zip -d /content/train_data\n",
        "#!unzip -j /content/archivio.zip -d /content/train_data # sposta archivio.zip prima\n",
        "!mkdir checkpoints\n",
        "os.chdir(REPO_DIR)"
      ],
      "metadata": {
        "id": "8sMpA54q7JCa"
      },
      "execution_count": null,
      "outputs": []
    },
    {
      "cell_type": "code",
      "source": [
        "# update repository\n",
        "!git -C $REPO_DIR pull origin main"
      ],
      "metadata": {
        "colab": {
          "base_uri": "https://localhost:8080/"
        },
        "id": "ixtr5noc7PSB",
        "outputId": "54e8f6ec-9d5b-4f68-a212-47ea96385bd0"
      },
      "execution_count": 3,
      "outputs": [
        {
          "output_type": "stream",
          "name": "stdout",
          "text": [
            "From https://github.com/matpaolacci/masked-lm-audio\n",
            " * branch            main       -> FETCH_HEAD\n",
            "Already up to date.\n"
          ]
        }
      ]
    },
    {
      "cell_type": "code",
      "source": [
        "# Build the vocabulary\n",
        "!python $REPO_DIR/bert/dataset/vocab.py -c ../train_data -o ../vocab.bin"
      ],
      "metadata": {
        "colab": {
          "base_uri": "https://localhost:8080/"
        },
        "id": "AOAeELyB7Qzf",
        "outputId": "17508e0f-5de3-4fe9-c2f4-f38540fdcb17"
      },
      "execution_count": 4,
      "outputs": [
        {
          "output_type": "stream",
          "name": "stdout",
          "text": [
            "Building Vocab\n",
            "VOCAB SIZE: 2053\n"
          ]
        }
      ]
    },
    {
      "cell_type": "markdown",
      "source": [
        "# Train the model!"
      ],
      "metadata": {
        "id": "ftYPYdGb7VsC"
      }
    },
    {
      "cell_type": "code",
      "source": [
        "!python -m bert \\\n",
        "-v ../vocab.bin \\\n",
        "-o ../checkpoints \\\n",
        "-c ../train_data \\\n",
        "--shuffle_train_dataset True \\\n",
        "--num_workers 2 \\\n",
        "--seq_len 512 \\\n",
        "--batch_size 32 \\\n",
        "--log_freq 42\\\n",
        "--lr 1e-4 \\\n",
        "--epochs 4000 \\\n",
        "--hidden 512 \\\n",
        "--attn_heads 8 \\\n",
        "--layers 4 \\\n",
        "--random_seed 42 \\\n",
        "--schedule_optim_warmup_steps 6000 \\\n",
        "--mode train"
      ],
      "metadata": {
        "id": "dDdaWQIi7UpD"
      },
      "execution_count": null,
      "outputs": []
    },
    {
      "cell_type": "markdown",
      "source": [
        "# Evaluate"
      ],
      "metadata": {
        "id": "wMWZlYAQ7aRf"
      }
    },
    {
      "cell_type": "code",
      "source": [
        "# Put a .pt file into eval_data from train_data\n",
        "!mkdir ../checkpoints ../eval_data"
      ],
      "metadata": {
        "colab": {
          "base_uri": "https://localhost:8080/"
        },
        "id": "9NxQVH3Z7kGL",
        "outputId": "8f0177c6-c8e5-41f3-b5e2-fabed8fd3fe0"
      },
      "execution_count": 5,
      "outputs": [
        {
          "output_type": "stream",
          "name": "stdout",
          "text": [
            "mkdir: cannot create directory ‘../checkpoints’: File exists\n"
          ]
        }
      ]
    },
    {
      "cell_type": "code",
      "source": [
        "!python -m bert \\\n",
        "-v ../vocab.bin \\\n",
        "--seq_len 512 \\\n",
        "--batch_size 32 \\\n",
        "--hidden 512 \\\n",
        "--attn_heads 8 \\\n",
        "--layers 4 \\\n",
        "--mode inference \\\n",
        "--elements_to_mask 128 \\\n",
        "--max_dataset_elements 2336 \\\n",
        "--path_to_eval_dataset ../eval_data \\\n",
        "--path_to_saved_model ../checkpoints/bert_L6.6482667_.ep4 \\\n",
        "--path_to_save_output ../bert.output.json"
      ],
      "metadata": {
        "colab": {
          "base_uri": "https://localhost:8080/"
        },
        "id": "S7SFs_407ks3",
        "outputId": "3f0cb161-5c82-448d-d7ae-85681fec6e70"
      },
      "execution_count": 14,
      "outputs": [
        {
          "output_type": "stream",
          "name": "stdout",
          "text": [
            "Loading Vocab ../vocab.bin\n",
            "Vocab Size:  2053\n",
            "Loading Evaluation Dataset ../eval_data\n",
            "Creating the dataset\n",
            "\r  0% 0/1 [00:00<?, ?it/s]\r100% 1/1 [00:00<00:00, 176.14it/s]\n",
            "Created a dataset of 470 elements\n",
            "Dataset successfully created!\n",
            "Loading model checkpoint...\n",
            "Evaluating: 100% 15/15 [00:03<00:00,  4.25it/s]\n",
            "Special tokens found and removed: [0]\n",
            "Input sequence length (239360) corresponds with sequence output from BERT\n",
            "Average Loss: 5.936921580632528\n",
            "Saving output at '../bert.output.json'\n",
            "The BERT's output sequence is 0.0006057820855614974% similar to the original\n"
          ]
        }
      ]
    }
  ]
}