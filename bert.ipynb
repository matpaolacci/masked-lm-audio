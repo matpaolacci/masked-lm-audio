{
  "cells": [
    {
      "cell_type": "markdown",
      "metadata": {
        "id": "gHX4oPiv7Fkg"
      },
      "source": [
        "# Environment"
      ]
    },
    {
      "cell_type": "code",
      "execution_count": 1,
      "metadata": {
        "id": "k72flb6C69bN"
      },
      "outputs": [],
      "source": [
        "import os\n",
        "\n",
        "# Set the paths\n",
        "DATASET_HOME_DIR = '/content/drive/MyDrive/DLProj/Dataset'\n",
        "CHECKPOINTS_DIR = '/content/drive/MyDrive/DLProj/vqvae_openai/checkpoints'\n",
        "WAV_DATASET_DIR = os.path.join(DATASET_HOME_DIR, \"WavVersion/train_small_files\")  # the Slackh2100 dataset with .wav stems\n",
        "REPO_DIR = '/content/masked-lm-audio'\n",
        "JUKEBOX_DIR = f'{REPO_DIR}/jukebox'\n",
        "\n",
        "# Clone the repo\n",
        "!git clone https://github.com/matpaolacci/masked-lm-audio.git --quiet"
      ]
    },
    {
      "cell_type": "markdown",
      "metadata": {
        "id": "7RksAFAa7Hkj"
      },
      "source": [
        "# Training"
      ]
    },
    {
      "cell_type": "code",
      "execution_count": null,
      "metadata": {
        "id": "8sMpA54q7JCa"
      },
      "outputs": [],
      "source": [
        "!mkdir train_data checkpoints\n",
        "os.chdir(REPO_DIR)\n",
        "\n",
        "#!mkdir checkpoints train_data\n",
        "!unzip -j $DATASET_HOME_DIR/encoded_level_1.zip -d /content/train_data\n",
        "#!unzip -j /content/archivio.zip -d /content/train_data # sposta archivio.zip prima\n",
        "!mkdir checkpoints\n",
        "os.chdir(REPO_DIR)"
      ]
    },
    {
      "cell_type": "code",
      "execution_count": 3,
      "metadata": {
        "colab": {
          "base_uri": "https://localhost:8080/"
        },
        "id": "ixtr5noc7PSB",
        "outputId": "54e8f6ec-9d5b-4f68-a212-47ea96385bd0"
      },
      "outputs": [
        {
          "name": "stdout",
          "output_type": "stream",
          "text": [
            "From https://github.com/matpaolacci/masked-lm-audio\n",
            " * branch            main       -> FETCH_HEAD\n",
            "Already up to date.\n"
          ]
        }
      ],
      "source": [
        "# update repository\n",
        "!git -C $REPO_DIR pull origin main"
      ]
    },
    {
      "cell_type": "code",
      "execution_count": 4,
      "metadata": {
        "colab": {
          "base_uri": "https://localhost:8080/"
        },
        "id": "AOAeELyB7Qzf",
        "outputId": "17508e0f-5de3-4fe9-c2f4-f38540fdcb17"
      },
      "outputs": [
        {
          "name": "stdout",
          "output_type": "stream",
          "text": [
            "Building Vocab\n",
            "VOCAB SIZE: 2053\n"
          ]
        }
      ],
      "source": [
        "# Build the vocabulary\n",
        "!python $REPO_DIR/bert/dataset/vocab.py -c ../train_data -o ../vocab.bin"
      ]
    },
    {
      "cell_type": "markdown",
      "metadata": {
        "id": "ftYPYdGb7VsC"
      },
      "source": [
        "# Train the model!"
      ]
    },
    {
      "cell_type": "code",
      "execution_count": null,
      "metadata": {
        "id": "dDdaWQIi7UpD"
      },
      "outputs": [],
      "source": [
        "!python -m bert \\\n",
        "-v ../vocab.bin \\\n",
        "-o ../checkpoints \\\n",
        "-c ../train_data \\\n",
        "--shuffle_train_dataset True \\\n",
        "--num_workers 2 \\\n",
        "--seq_len 512 \\\n",
        "--batch_size 32 \\\n",
        "--log_freq 42\\\n",
        "--lr 1e-4 \\\n",
        "--epochs 4000 \\\n",
        "--hidden 512 \\\n",
        "--attn_heads 8 \\\n",
        "--layers 4 \\\n",
        "--random_seed 42 \\\n",
        "--schedule_optim_warmup_steps 6000 \\\n",
        "--mode train"
      ]
    },
    {
      "cell_type": "markdown",
      "metadata": {
        "id": "wMWZlYAQ7aRf"
      },
      "source": [
        "# Evaluate"
      ]
    },
    {
      "cell_type": "code",
      "execution_count": 5,
      "metadata": {
        "colab": {
          "base_uri": "https://localhost:8080/"
        },
        "id": "9NxQVH3Z7kGL",
        "outputId": "8f0177c6-c8e5-41f3-b5e2-fabed8fd3fe0"
      },
      "outputs": [
        {
          "name": "stdout",
          "output_type": "stream",
          "text": [
            "mkdir: cannot create directory ‘../checkpoints’: File exists\n"
          ]
        }
      ],
      "source": [
        "# Put a .pt file into eval_data from train_data\n",
        "!mkdir ../checkpoints ../eval_data"
      ]
    },
    {
      "cell_type": "code",
      "execution_count": null,
      "metadata": {
        "colab": {
          "base_uri": "https://localhost:8080/"
        },
        "id": "S7SFs_407ks3",
        "outputId": "3f0cb161-5c82-448d-d7ae-85681fec6e70"
      },
      "outputs": [],
      "source": [
        "!python -m bert \\\n",
        "-v ../vocab.bin \\\n",
        "--seq_len 512 \\\n",
        "--batch_size 32 \\\n",
        "--hidden 512 \\\n",
        "--attn_heads 8 \\\n",
        "--layers 4 \\\n",
        "--mode inference \\\n",
        "--elements_to_mask 128 \\\n",
        "--max_dataset_elements 2336 \\\n",
        "--path_to_eval_dataset ../eval_data \\\n",
        "--path_to_saved_model ../checkpoints/bert_L6.6482667_.ep4 \\\n",
        "--path_to_save_output ../bert.output.json"
      ]
    }
  ],
  "metadata": {
    "accelerator": "GPU",
    "colab": {
      "gpuType": "T4",
      "provenance": []
    },
    "kernelspec": {
      "display_name": "Python 3",
      "name": "python3"
    },
    "language_info": {
      "name": "python"
    }
  },
  "nbformat": 4,
  "nbformat_minor": 0
}
